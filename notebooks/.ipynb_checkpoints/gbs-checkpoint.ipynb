{
 "cells": [
  {
   "cell_type": "markdown",
   "metadata": {},
   "source": [
    "### Experimenting with GBS"
   ]
  },
  {
   "cell_type": "code",
   "execution_count": 80,
   "metadata": {},
   "outputs": [],
   "source": [
    "import strawberryfields as sf\n",
    "from strawberryfields import ops\n",
    "import numpy as np\n",
    "from matplotlib import pyplot as plt\n",
    "import thewalrus as walrus\n",
    "import networkx as nx\n",
    "import itertools"
   ]
  },
  {
   "cell_type": "markdown",
   "metadata": {},
   "source": [
    "#### Verifying that GBS Actually Works"
   ]
  },
  {
   "cell_type": "markdown",
   "metadata": {},
   "source": [
    "We can begin by defining an apparatus described by squeezing gates and interferometers "
   ]
  },
  {
   "cell_type": "code",
   "execution_count": 81,
   "metadata": {},
   "outputs": [
    {
     "name": "stdout",
     "output_type": "stream",
     "text": [
      "[[0. +0.j 0.1+0.j 0.1+0.j 0.1+0.j]\n",
      " [0.1+0.j 0. +0.j 0.1+0.j 0. +0.j]\n",
      " [0.1+0.j 0.1+0.j 0. +0.j 0.1+0.j]\n",
      " [0.1+0.j 0. +0.j 0.1+0.j 0. +0.j]]\n"
     ]
    },
    {
     "data": {
      "image/png": "[encoded data removed]",
      "text/plain": [
       "<Figure size 432x288 with 1 Axes>"
      ]
     },
     "metadata": {},
     "output_type": "display_data"
    }
   ],
   "source": [
    "# Define some arbitrary matrix which we will use in our GBS experiment\n",
    "\n",
    "G = nx.Graph()\n",
    "G.add_nodes_from([0, 1, 2, 3])\n",
    "G.add_edges_from([(0, 1), (1, 2), (2, 3), (3, 0), (0, 2)])\n",
    "nx.draw(G)\n",
    "\n",
    "matrix = 0.1*np.array(nx.to_numpy_matrix(G), dtype=np.complex)\n",
    "\n",
    "print(matrix)"
   ]
  },
  {
   "cell_type": "code",
   "execution_count": 82,
   "metadata": {},
   "outputs": [
    {
     "name": "stdout",
     "output_type": "stream",
     "text": [
      "(array([2.56155281e-01, 1.56155281e-01, 1.00000000e-01, 5.20417043e-18]), array([[ 5.57345410e-01+0.00000000e+00j,  0.00000000e+00-4.35162146e-01j,\n",
      "         0.00000000e+00-7.07106781e-01j, -2.25959390e-16+0.00000000e+00j],\n",
      "       [ 4.35162146e-01+0.00000000e+00j,  0.00000000e+00+5.57345410e-01j,\n",
      "         0.00000000e+00+2.22044605e-16j,  7.07106781e-01+0.00000000e+00j],\n",
      "       [ 5.57345410e-01+0.00000000e+00j,  0.00000000e+00-4.35162146e-01j,\n",
      "         0.00000000e+00+7.07106781e-01j,  1.11022302e-16+0.00000000e+00j],\n",
      "       [ 4.35162146e-01+0.00000000e+00j,  0.00000000e+00+5.57345410e-01j,\n",
      "         0.00000000e+00+5.55111512e-16j, -7.07106781e-01+0.00000000e+00j]]))\n"
     ]
    }
   ],
   "source": [
    "# Method that calculates the submatrix corresponding to a given sample\n",
    "\n",
    "def reduce_matrix(matrix, string):\n",
    "    \n",
    "    matrix = np.repeat(matrix, repeats=string, axis=0)\n",
    "    return np.repeat(matrix, repeats=string, axis=1)\n",
    "\n",
    "# Performs the Takagi decomposition of the matrix\n",
    "\n",
    "takagi = sf.decompositions.takagi(matrix)\n",
    "print(takagi)\n",
    "\n",
    "# Calculates the normalization factor\n",
    "\n",
    "prod = 1\n",
    "for i in takagi[0]:\n",
    "    prod *= 1 - i**2"
   ]
  },
  {
   "cell_type": "code",
   "execution_count": 83,
   "metadata": {},
   "outputs": [],
   "source": [
    "def calculate_prob(matrix, string):\n",
    "    \n",
    "    # Calculates the reduced matrix\n",
    "    r_matrix = reduce_matrix(matrix, string)\n",
    "    \n",
    "    # Calculates the normalization factor\n",
    "    norm = 1\n",
    "    for i in string:\n",
    "        norm *= np.math.factorial(i)\n",
    "    \n",
    "    # Calculates the final probability\n",
    "    final_val = np.sqrt(prod)*(abs(walrus.hafnian(r_matrix))**2) / norm\n",
    "    \n",
    "    return final_val"
   ]
  },
  {
   "cell_type": "code",
   "execution_count": 84,
   "metadata": {},
   "outputs": [],
   "source": [
    "cutoff = 5\n",
    "modes = 4\n",
    "\n",
    "def gbs_array(squeezing_params, unitary, modes):\n",
    "    \n",
    "    prog = sf.Program(modes)\n",
    "    \n",
    "    with prog.context as q:\n",
    "        \n",
    "        for i in range(0, modes):\n",
    "            ops.Sgate(squeezing_params[i]) | q[i]\n",
    "        \n",
    "        ops.Interferometer(unitary) | q\n",
    "        \n",
    "    result = eng.run(prog)\n",
    "    \n",
    "    return result.state"
   ]
  },
  {
   "cell_type": "code",
   "execution_count": 85,
   "metadata": {},
   "outputs": [
    {
     "name": "stdout",
     "output_type": "stream",
     "text": [
      "Theoretical Value: 0.9499915789100449\n",
      "Experimental Value: 0.949991578910045\n"
     ]
    }
   ],
   "source": [
    "# Finds the probability of measuring some state, and compares it to the theoretical value\n",
    "\n",
    "sample_val = [0, 0, 0, 0]\n",
    "eng = sf.Engine(\"fock\", backend_options={\"cutoff_dim\": 10})\n",
    "\n",
    "# Calculates the theoretical value\n",
    "\n",
    "theoretical = calculate_prob(matrix, sample_val)\n",
    "print(\"Theoretical Value: {}\".format(theoretical))\n",
    "\n",
    "# Calculates the experimental value\n",
    "\n",
    "squeezing = [np.arctanh(i) for i in takagi[0]]\n",
    "state = gbs_array(squeezing, takagi[1], modes)\n",
    "print(\"Experimental Value: {}\".format(state.fock_prob(sample_val)))"
   ]
  }
 ],
 "metadata": {
  "kernelspec": {
   "display_name": "Python 3",
   "language": "python",
   "name": "python3"
  },
  "language_info": {
   "codemirror_mode": {
    "name": "ipython",
    "version": 3
   },
   "file_extension": ".py",
   "mimetype": "text/x-python",
   "name": "python",
   "nbconvert_exporter": "python",
   "pygments_lexer": "ipython3",
   "version": "3.7.5"
  }
 },
 "nbformat": 4,
 "nbformat_minor": 4
}
